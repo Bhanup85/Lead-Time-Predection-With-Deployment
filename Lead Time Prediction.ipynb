{
 "cells": [
  {
   "cell_type": "markdown",
   "id": "60953043",
   "metadata": {},
   "source": [
    "## Lead Time Predection using Machine learning¶"
   ]
  },
  {
   "cell_type": "markdown",
   "id": "1ff70cbd",
   "metadata": {},
   "source": [
    "# Importing libraries"
   ]
  },
  {
   "cell_type": "code",
   "execution_count": 1,
   "id": "ba8126bc",
   "metadata": {},
   "outputs": [],
   "source": [
    "# Importing libraries\n",
    "import pandas as pd\n",
    "import numpy as np\n",
    "import matplotlib.pyplot as plt\n",
    "import seaborn as sns\n",
    "from sklearn.preprocessing import LabelEncoder\n",
    "le=LabelEncoder()\n",
    "import warnings\n",
    "warnings.filterwarnings('ignore')"
   ]
  },
  {
   "cell_type": "code",
   "execution_count": 2,
   "id": "f2e8e4ee",
   "metadata": {},
   "outputs": [],
   "source": [
    "from scipy.stats import zscore\n",
    "from sklearn.model_selection import train_test_split\n",
    "from sklearn.metrics import accuracy_score,confusion_matrix\n",
    "from time import time\n",
    "from sklearn.linear_model import LogisticRegression\n",
    "from sklearn.tree import DecisionTreeClassifier\n",
    "from sklearn.neighbors import KNeighborsClassifier\n",
    "from sklearn.ensemble import RandomForestClassifier,AdaBoostClassifier,BaggingClassifier,ExtraTreesClassifier\n",
    "lr=LogisticRegression()\n",
    "dt=DecisionTreeClassifier()\n",
    "knn=KNeighborsClassifier()\n",
    "rf=RandomForestClassifier()\n",
    "ada=AdaBoostClassifier()\n",
    "bag=BaggingClassifier()\n",
    "xtree=ExtraTreesClassifier()\n",
    "from sklearn.model_selection import GridSearchCV\n",
    "from sklearn.feature_extraction.text import CountVectorizer\n",
    "count=CountVectorizer()\n",
    "from sklearn.decomposition import PCA"
   ]
  },
  {
   "cell_type": "markdown",
   "id": "83be7bfb",
   "metadata": {},
   "source": [
    "# Importing Datasets"
   ]
  },
  {
   "cell_type": "code",
   "execution_count": 3,
   "id": "4c482d3f",
   "metadata": {},
   "outputs": [],
   "source": [
    "\n",
    "train = pd.read_excel(r\"D:\\NIT 10AM\\project\\personal\\machine-hack-delivery-time-prediction\\Data_Train.xlsx\")\n",
    "test=pd.read_excel(r\"D:\\NIT 10AM\\project\\personal\\machine-hack-delivery-time-prediction\\Data_Test.xlsx\")\n",
    "sample=pd.read_excel(r\"D:\\NIT 10AM\\project\\personal\\machine-hack-delivery-time-prediction\\Sample_Submission.xlsx\")"
   ]
  },
  {
   "cell_type": "markdown",
   "id": "0ef1cff5",
   "metadata": {},
   "source": [
    "# Preprocesing the Data sets"
   ]
  },
  {
   "cell_type": "code",
   "execution_count": 4,
   "id": "df3d8d5b",
   "metadata": {},
   "outputs": [],
   "source": [
    "\n",
    "train['Restaurant']=le.fit_transform(train['Restaurant'])\n",
    "train['Location']=le.fit_transform(train['Location'])\n",
    "train['Minimum_Order']=pd.to_numeric(train['Minimum_Order'].str.replace('₹',' '))\n",
    "train['Average_Cost']=pd.to_numeric(train['Average_Cost'].str.replace('[^0-9]',''))\n",
    "train['Rating']=pd.to_numeric(train['Rating'].apply(lambda x : np.nan if x in ['Temporarily Closed','Opening Soon','-','NEW'] else x))\n",
    "train['Votes']=pd.to_numeric(train['Votes'].apply(lambda x : np.nan if x=='-' else x))\n",
    "train['Reviews']=pd.to_numeric(train['Reviews'].apply(lambda x : np.nan if x=='-' else x))\n",
    "train['Delivery_Time']=pd.to_numeric(train['Delivery_Time'].str.replace('[^0-9]',''))"
   ]
  },
  {
   "cell_type": "code",
   "execution_count": 5,
   "id": "de5a9b8f",
   "metadata": {},
   "outputs": [],
   "source": [
    "import numpy as np\n",
    "\n",
    "# Define the columns to be processed\n",
    "columns_to_process = ['Rating', 'Votes', 'Reviews', 'Average_Cost']\n",
    "\n",
    "# Perform outlier treatment and missing value imputation\n",
    "for column in columns_to_process:\n",
    "    q1 = train[column].quantile(0.25)\n",
    "    q3 = train[column].quantile(0.75)\n",
    "    iqr = q3 - q1\n",
    "    \n",
    "    # Outlier treatment\n",
    "    train[column] = train[column].apply(lambda x: np.nan if x > q3 + 1.5 * iqr or x < q1 - 1.5 * iqr else x)\n",
    "    \n",
    "    # Missing value imputation\n",
    "    if column == 'Reviews':\n",
    "        train[column] = train[column].fillna(round(train[column].mean()))\n",
    "    else:\n",
    "        train[column] = train[column].fillna(train[column].mode()[0])\n"
   ]
  },
  {
   "cell_type": "markdown",
   "id": "8017b4f6",
   "metadata": {},
   "source": [
    "# Save the Processed data set for Future Deploymeny"
   ]
  },
  {
   "cell_type": "code",
   "execution_count": 6,
   "id": "2aeb4e8f",
   "metadata": {},
   "outputs": [],
   "source": [
    "#output=r\"C:\\Users\\bhanu\\Downloads\\processed\\train.csv\"\n",
    "#train.to_csv(output,index=False)"
   ]
  },
  {
   "cell_type": "code",
   "execution_count": 7,
   "id": "59a3fb45",
   "metadata": {},
   "outputs": [
    {
     "data": {
      "text/html": [
       "<div>\n",
       "<style scoped>\n",
       "    .dataframe tbody tr th:only-of-type {\n",
       "        vertical-align: middle;\n",
       "    }\n",
       "\n",
       "    .dataframe tbody tr th {\n",
       "        vertical-align: top;\n",
       "    }\n",
       "\n",
       "    .dataframe thead th {\n",
       "        text-align: right;\n",
       "    }\n",
       "</style>\n",
       "<table border=\"1\" class=\"dataframe\">\n",
       "  <thead>\n",
       "    <tr style=\"text-align: right;\">\n",
       "      <th></th>\n",
       "      <th>Restaurant</th>\n",
       "      <th>Location</th>\n",
       "      <th>Cuisines</th>\n",
       "      <th>Average_Cost</th>\n",
       "      <th>Minimum_Order</th>\n",
       "      <th>Rating</th>\n",
       "      <th>Votes</th>\n",
       "      <th>Reviews</th>\n",
       "      <th>Delivery_Time</th>\n",
       "    </tr>\n",
       "  </thead>\n",
       "  <tbody>\n",
       "    <tr>\n",
       "      <th>0</th>\n",
       "      <td>5086</td>\n",
       "      <td>10</td>\n",
       "      <td>Fast Food, Rolls, Burger, Salad, Wraps</td>\n",
       "      <td>200.0</td>\n",
       "      <td>50</td>\n",
       "      <td>3.5</td>\n",
       "      <td>12.0</td>\n",
       "      <td>4.0</td>\n",
       "      <td>30</td>\n",
       "    </tr>\n",
       "    <tr>\n",
       "      <th>1</th>\n",
       "      <td>1785</td>\n",
       "      <td>30</td>\n",
       "      <td>Ice Cream, Desserts</td>\n",
       "      <td>100.0</td>\n",
       "      <td>50</td>\n",
       "      <td>3.5</td>\n",
       "      <td>11.0</td>\n",
       "      <td>4.0</td>\n",
       "      <td>30</td>\n",
       "    </tr>\n",
       "    <tr>\n",
       "      <th>2</th>\n",
       "      <td>571</td>\n",
       "      <td>19</td>\n",
       "      <td>Italian, Street Food, Fast Food</td>\n",
       "      <td>150.0</td>\n",
       "      <td>50</td>\n",
       "      <td>3.6</td>\n",
       "      <td>99.0</td>\n",
       "      <td>30.0</td>\n",
       "      <td>65</td>\n",
       "    </tr>\n",
       "    <tr>\n",
       "      <th>3</th>\n",
       "      <td>4708</td>\n",
       "      <td>28</td>\n",
       "      <td>Mughlai, North Indian, Chinese</td>\n",
       "      <td>250.0</td>\n",
       "      <td>99</td>\n",
       "      <td>3.7</td>\n",
       "      <td>176.0</td>\n",
       "      <td>95.0</td>\n",
       "      <td>30</td>\n",
       "    </tr>\n",
       "    <tr>\n",
       "      <th>4</th>\n",
       "      <td>4896</td>\n",
       "      <td>26</td>\n",
       "      <td>Cafe, Beverages</td>\n",
       "      <td>200.0</td>\n",
       "      <td>99</td>\n",
       "      <td>3.2</td>\n",
       "      <td>4.0</td>\n",
       "      <td>39.0</td>\n",
       "      <td>65</td>\n",
       "    </tr>\n",
       "  </tbody>\n",
       "</table>\n",
       "</div>"
      ],
      "text/plain": [
       "   Restaurant  Location                                Cuisines  Average_Cost  \\\n",
       "0        5086        10  Fast Food, Rolls, Burger, Salad, Wraps         200.0   \n",
       "1        1785        30                     Ice Cream, Desserts         100.0   \n",
       "2         571        19         Italian, Street Food, Fast Food         150.0   \n",
       "3        4708        28          Mughlai, North Indian, Chinese         250.0   \n",
       "4        4896        26                         Cafe, Beverages         200.0   \n",
       "\n",
       "   Minimum_Order  Rating  Votes  Reviews  Delivery_Time  \n",
       "0             50     3.5   12.0      4.0             30  \n",
       "1             50     3.5   11.0      4.0             30  \n",
       "2             50     3.6   99.0     30.0             65  \n",
       "3             99     3.7  176.0     95.0             30  \n",
       "4             99     3.2    4.0     39.0             65  "
      ]
     },
     "execution_count": 7,
     "metadata": {},
     "output_type": "execute_result"
    }
   ],
   "source": [
    "train.head()"
   ]
  },
  {
   "cell_type": "code",
   "execution_count": 8,
   "id": "5fe34d6a",
   "metadata": {},
   "outputs": [],
   "source": [
    "train_01=train.copy()"
   ]
  },
  {
   "cell_type": "code",
   "execution_count": 9,
   "id": "815f92a0",
   "metadata": {},
   "outputs": [
    {
     "name": "stdout",
     "output_type": "stream",
     "text": [
      "<class 'pandas.core.frame.DataFrame'>\n",
      "RangeIndex: 11094 entries, 0 to 11093\n",
      "Data columns (total 9 columns):\n",
      " #   Column         Non-Null Count  Dtype  \n",
      "---  ------         --------------  -----  \n",
      " 0   Restaurant     11094 non-null  int32  \n",
      " 1   Location       11094 non-null  int32  \n",
      " 2   Cuisines       11094 non-null  object \n",
      " 3   Average_Cost   11094 non-null  float64\n",
      " 4   Minimum_Order  11094 non-null  int64  \n",
      " 5   Rating         11094 non-null  float64\n",
      " 6   Votes          11094 non-null  float64\n",
      " 7   Reviews        11094 non-null  float64\n",
      " 8   Delivery_Time  11094 non-null  int64  \n",
      "dtypes: float64(4), int32(2), int64(2), object(1)\n",
      "memory usage: 693.5+ KB\n"
     ]
    }
   ],
   "source": [
    "train.info()"
   ]
  },
  {
   "cell_type": "code",
   "execution_count": 10,
   "id": "13cbcd13",
   "metadata": {},
   "outputs": [],
   "source": [
    "train['Cuisines']=le.fit_transform(train['Cuisines'])"
   ]
  },
  {
   "cell_type": "code",
   "execution_count": 11,
   "id": "678650e7",
   "metadata": {},
   "outputs": [],
   "source": [
    " # Assuming 'Delivery_Time' is the target column\n",
    "x=train.drop('Delivery_Time',axis=1)\n",
    "y=train['Delivery_Time']"
   ]
  },
  {
   "cell_type": "code",
   "execution_count": 12,
   "id": "5fb74aac",
   "metadata": {},
   "outputs": [],
   "source": [
    "# Apply the zscore to x\n",
    "x=x.apply(zscore)"
   ]
  },
  {
   "cell_type": "code",
   "execution_count": 13,
   "id": "3f5588c0",
   "metadata": {},
   "outputs": [],
   "source": [
    "# SPlitting The Data into TEST and TRAIN\n",
    "x_train,x_test,y_train,y_test=train_test_split(x,y,test_size=0.3,random_state=0)"
   ]
  },
  {
   "cell_type": "markdown",
   "id": "0d325f71",
   "metadata": {},
   "source": [
    "## LazyPredict"
   ]
  },
  {
   "cell_type": "code",
   "execution_count": 14,
   "id": "a6896a5a",
   "metadata": {},
   "outputs": [
    {
     "name": "stderr",
     "output_type": "stream",
     "text": [
      "100%|██████████████████████████████████████████████████████████████████████████████████| 29/29 [01:09<00:00,  2.40s/it]\n"
     ]
    }
   ],
   "source": [
    "from lazypredict.Supervised import LazyClassifier\n",
    "clf = LazyClassifier(verbose=0, ignore_warnings=True, custom_metric=None)\n",
    "models, predictions = clf.fit(x_train, x_train, y_train, y_train)  # Using the same data for training and testing to demonstrate\n",
    " # Assuming 'Delivery_Time' is the target column\n",
    "\n"
   ]
  },
  {
   "cell_type": "code",
   "execution_count": 15,
   "id": "34759117",
   "metadata": {},
   "outputs": [
    {
     "name": "stdout",
     "output_type": "stream",
     "text": [
      "                               Accuracy  Balanced Accuracy ROC AUC  F1 Score  \\\n",
      "Model                                                                          \n",
      "DecisionTreeClassifier             1.00               1.00    None      1.00   \n",
      "ExtraTreeClassifier                1.00               1.00    None      1.00   \n",
      "ExtraTreesClassifier               1.00               1.00    None      1.00   \n",
      "RandomForestClassifier             1.00               1.00    None      1.00   \n",
      "LabelPropagation                   1.00               1.00    None      1.00   \n",
      "LabelSpreading                     0.99               0.98    None      0.99   \n",
      "BaggingClassifier                  0.98               0.98    None      0.98   \n",
      "QuadraticDiscriminantAnalysis      0.47               0.58    None      0.54   \n",
      "LGBMClassifier                     0.81               0.47    None      0.81   \n",
      "NearestCentroid                    0.33               0.45    None      0.43   \n",
      "GaussianNB                         0.18               0.38    None      0.25   \n",
      "KNeighborsClassifier               0.77               0.25    None      0.74   \n",
      "SVC                                0.73               0.22    None      0.68   \n",
      "LinearDiscriminantAnalysis         0.68               0.20    None      0.62   \n",
      "LogisticRegression                 0.69               0.19    None      0.64   \n",
      "PassiveAggressiveClassifier        0.65               0.18    None      0.63   \n",
      "SGDClassifier                      0.68               0.18    None      0.61   \n",
      "AdaBoostClassifier                 0.64               0.18    None      0.62   \n",
      "BernoulliNB                        0.68               0.18    None      0.64   \n",
      "Perceptron                         0.61               0.18    None      0.57   \n",
      "CalibratedClassifierCV             0.69               0.17    None      0.63   \n",
      "LinearSVC                          0.69               0.17    None      0.62   \n",
      "RidgeClassifier                    0.69               0.17    None      0.62   \n",
      "RidgeClassifierCV                  0.69               0.17    None      0.62   \n",
      "DummyClassifier                    0.67               0.14    None      0.54   \n",
      "\n",
      "                               Time Taken  \n",
      "Model                                      \n",
      "DecisionTreeClassifier               0.16  \n",
      "ExtraTreeClassifier                  0.06  \n",
      "ExtraTreesClassifier                 2.81  \n",
      "RandomForestClassifier               4.07  \n",
      "LabelPropagation                     6.13  \n",
      "LabelSpreading                       8.17  \n",
      "BaggingClassifier                    1.16  \n",
      "QuadraticDiscriminantAnalysis        0.07  \n",
      "LGBMClassifier                       2.25  \n",
      "NearestCentroid                      0.06  \n",
      "GaussianNB                           0.07  \n",
      "KNeighborsClassifier                 1.79  \n",
      "SVC                                 16.43  \n",
      "LinearDiscriminantAnalysis           0.09  \n",
      "LogisticRegression                   0.44  \n",
      "PassiveAggressiveClassifier          0.12  \n",
      "SGDClassifier                        0.29  \n",
      "AdaBoostClassifier                   0.93  \n",
      "BernoulliNB                          0.05  \n",
      "Perceptron                           0.10  \n",
      "CalibratedClassifierCV              19.04  \n",
      "LinearSVC                            5.12  \n",
      "RidgeClassifier                      0.08  \n",
      "RidgeClassifierCV                    0.08  \n",
      "DummyClassifier                      0.04  \n"
     ]
    }
   ],
   "source": [
    "print(models)"
   ]
  },
  {
   "cell_type": "markdown",
   "id": "087f3ea0",
   "metadata": {},
   "source": [
    "## Implementing Text Analysis Using Count Vector"
   ]
  },
  {
   "cell_type": "code",
   "execution_count": 16,
   "id": "c5c88ebf",
   "metadata": {},
   "outputs": [
    {
     "data": {
      "text/html": [
       "<div>\n",
       "<style scoped>\n",
       "    .dataframe tbody tr th:only-of-type {\n",
       "        vertical-align: middle;\n",
       "    }\n",
       "\n",
       "    .dataframe tbody tr th {\n",
       "        vertical-align: top;\n",
       "    }\n",
       "\n",
       "    .dataframe thead th {\n",
       "        text-align: right;\n",
       "    }\n",
       "</style>\n",
       "<table border=\"1\" class=\"dataframe\">\n",
       "  <thead>\n",
       "    <tr style=\"text-align: right;\">\n",
       "      <th></th>\n",
       "      <th>Restaurant</th>\n",
       "      <th>Location</th>\n",
       "      <th>Cuisines</th>\n",
       "      <th>Average_Cost</th>\n",
       "      <th>Minimum_Order</th>\n",
       "      <th>Rating</th>\n",
       "      <th>Votes</th>\n",
       "      <th>Reviews</th>\n",
       "      <th>Delivery_Time</th>\n",
       "    </tr>\n",
       "  </thead>\n",
       "  <tbody>\n",
       "    <tr>\n",
       "      <th>0</th>\n",
       "      <td>5086</td>\n",
       "      <td>10</td>\n",
       "      <td>Fast Food, Rolls, Burger, Salad, Wraps</td>\n",
       "      <td>200.00</td>\n",
       "      <td>50</td>\n",
       "      <td>3.50</td>\n",
       "      <td>12.00</td>\n",
       "      <td>4.00</td>\n",
       "      <td>30</td>\n",
       "    </tr>\n",
       "    <tr>\n",
       "      <th>1</th>\n",
       "      <td>1785</td>\n",
       "      <td>30</td>\n",
       "      <td>Ice Cream, Desserts</td>\n",
       "      <td>100.00</td>\n",
       "      <td>50</td>\n",
       "      <td>3.50</td>\n",
       "      <td>11.00</td>\n",
       "      <td>4.00</td>\n",
       "      <td>30</td>\n",
       "    </tr>\n",
       "    <tr>\n",
       "      <th>2</th>\n",
       "      <td>571</td>\n",
       "      <td>19</td>\n",
       "      <td>Italian, Street Food, Fast Food</td>\n",
       "      <td>150.00</td>\n",
       "      <td>50</td>\n",
       "      <td>3.60</td>\n",
       "      <td>99.00</td>\n",
       "      <td>30.00</td>\n",
       "      <td>65</td>\n",
       "    </tr>\n",
       "    <tr>\n",
       "      <th>3</th>\n",
       "      <td>4708</td>\n",
       "      <td>28</td>\n",
       "      <td>Mughlai, North Indian, Chinese</td>\n",
       "      <td>250.00</td>\n",
       "      <td>99</td>\n",
       "      <td>3.70</td>\n",
       "      <td>176.00</td>\n",
       "      <td>95.00</td>\n",
       "      <td>30</td>\n",
       "    </tr>\n",
       "    <tr>\n",
       "      <th>4</th>\n",
       "      <td>4896</td>\n",
       "      <td>26</td>\n",
       "      <td>Cafe, Beverages</td>\n",
       "      <td>200.00</td>\n",
       "      <td>99</td>\n",
       "      <td>3.20</td>\n",
       "      <td>4.00</td>\n",
       "      <td>39.00</td>\n",
       "      <td>65</td>\n",
       "    </tr>\n",
       "  </tbody>\n",
       "</table>\n",
       "</div>"
      ],
      "text/plain": [
       "   Restaurant  Location                                Cuisines  Average_Cost  \\\n",
       "0        5086        10  Fast Food, Rolls, Burger, Salad, Wraps        200.00   \n",
       "1        1785        30                     Ice Cream, Desserts        100.00   \n",
       "2         571        19         Italian, Street Food, Fast Food        150.00   \n",
       "3        4708        28          Mughlai, North Indian, Chinese        250.00   \n",
       "4        4896        26                         Cafe, Beverages        200.00   \n",
       "\n",
       "   Minimum_Order  Rating  Votes  Reviews  Delivery_Time  \n",
       "0             50    3.50  12.00     4.00             30  \n",
       "1             50    3.50  11.00     4.00             30  \n",
       "2             50    3.60  99.00    30.00             65  \n",
       "3             99    3.70 176.00    95.00             30  \n",
       "4             99    3.20   4.00    39.00             65  "
      ]
     },
     "execution_count": 16,
     "metadata": {},
     "output_type": "execute_result"
    }
   ],
   "source": [
    "train_01.head()"
   ]
  },
  {
   "cell_type": "code",
   "execution_count": 17,
   "id": "eb3eae0d",
   "metadata": {},
   "outputs": [],
   "source": [
    "train_01['Cuisines']=train_01['Cuisines'].str.lower()\n",
    "train_01['Cuisines']=train_01['Cuisines'].str.replace('[^a-z]',' ')"
   ]
  },
  {
   "cell_type": "code",
   "execution_count": 18,
   "id": "bb491bc5",
   "metadata": {},
   "outputs": [
    {
     "data": {
      "text/html": [
       "<style>#sk-container-id-1 {color: black;background-color: white;}#sk-container-id-1 pre{padding: 0;}#sk-container-id-1 div.sk-toggleable {background-color: white;}#sk-container-id-1 label.sk-toggleable__label {cursor: pointer;display: block;width: 100%;margin-bottom: 0;padding: 0.3em;box-sizing: border-box;text-align: center;}#sk-container-id-1 label.sk-toggleable__label-arrow:before {content: \"▸\";float: left;margin-right: 0.25em;color: #696969;}#sk-container-id-1 label.sk-toggleable__label-arrow:hover:before {color: black;}#sk-container-id-1 div.sk-estimator:hover label.sk-toggleable__label-arrow:before {color: black;}#sk-container-id-1 div.sk-toggleable__content {max-height: 0;max-width: 0;overflow: hidden;text-align: left;background-color: #f0f8ff;}#sk-container-id-1 div.sk-toggleable__content pre {margin: 0.2em;color: black;border-radius: 0.25em;background-color: #f0f8ff;}#sk-container-id-1 input.sk-toggleable__control:checked~div.sk-toggleable__content {max-height: 200px;max-width: 100%;overflow: auto;}#sk-container-id-1 input.sk-toggleable__control:checked~label.sk-toggleable__label-arrow:before {content: \"▾\";}#sk-container-id-1 div.sk-estimator input.sk-toggleable__control:checked~label.sk-toggleable__label {background-color: #d4ebff;}#sk-container-id-1 div.sk-label input.sk-toggleable__control:checked~label.sk-toggleable__label {background-color: #d4ebff;}#sk-container-id-1 input.sk-hidden--visually {border: 0;clip: rect(1px 1px 1px 1px);clip: rect(1px, 1px, 1px, 1px);height: 1px;margin: -1px;overflow: hidden;padding: 0;position: absolute;width: 1px;}#sk-container-id-1 div.sk-estimator {font-family: monospace;background-color: #f0f8ff;border: 1px dotted black;border-radius: 0.25em;box-sizing: border-box;margin-bottom: 0.5em;}#sk-container-id-1 div.sk-estimator:hover {background-color: #d4ebff;}#sk-container-id-1 div.sk-parallel-item::after {content: \"\";width: 100%;border-bottom: 1px solid gray;flex-grow: 1;}#sk-container-id-1 div.sk-label:hover label.sk-toggleable__label {background-color: #d4ebff;}#sk-container-id-1 div.sk-serial::before {content: \"\";position: absolute;border-left: 1px solid gray;box-sizing: border-box;top: 0;bottom: 0;left: 50%;z-index: 0;}#sk-container-id-1 div.sk-serial {display: flex;flex-direction: column;align-items: center;background-color: white;padding-right: 0.2em;padding-left: 0.2em;position: relative;}#sk-container-id-1 div.sk-item {position: relative;z-index: 1;}#sk-container-id-1 div.sk-parallel {display: flex;align-items: stretch;justify-content: center;background-color: white;position: relative;}#sk-container-id-1 div.sk-item::before, #sk-container-id-1 div.sk-parallel-item::before {content: \"\";position: absolute;border-left: 1px solid gray;box-sizing: border-box;top: 0;bottom: 0;left: 50%;z-index: -1;}#sk-container-id-1 div.sk-parallel-item {display: flex;flex-direction: column;z-index: 1;position: relative;background-color: white;}#sk-container-id-1 div.sk-parallel-item:first-child::after {align-self: flex-end;width: 50%;}#sk-container-id-1 div.sk-parallel-item:last-child::after {align-self: flex-start;width: 50%;}#sk-container-id-1 div.sk-parallel-item:only-child::after {width: 0;}#sk-container-id-1 div.sk-dashed-wrapped {border: 1px dashed gray;margin: 0 0.4em 0.5em 0.4em;box-sizing: border-box;padding-bottom: 0.4em;background-color: white;}#sk-container-id-1 div.sk-label label {font-family: monospace;font-weight: bold;display: inline-block;line-height: 1.2em;}#sk-container-id-1 div.sk-label-container {text-align: center;}#sk-container-id-1 div.sk-container {/* jupyter's `normalize.less` sets `[hidden] { display: none; }` but bootstrap.min.css set `[hidden] { display: none !important; }` so we also need the `!important` here to be able to override the default hidden behavior on the sphinx rendered scikit-learn.org. See: https://github.com/scikit-learn/scikit-learn/issues/21755 */display: inline-block !important;position: relative;}#sk-container-id-1 div.sk-text-repr-fallback {display: none;}</style><div id=\"sk-container-id-1\" class=\"sk-top-container\"><div class=\"sk-text-repr-fallback\"><pre>CountVectorizer()</pre><b>In a Jupyter environment, please rerun this cell to show the HTML representation or trust the notebook. <br />On GitHub, the HTML representation is unable to render, please try loading this page with nbviewer.org.</b></div><div class=\"sk-container\" hidden><div class=\"sk-item\"><div class=\"sk-estimator sk-toggleable\"><input class=\"sk-toggleable__control sk-hidden--visually\" id=\"sk-estimator-id-1\" type=\"checkbox\" checked><label for=\"sk-estimator-id-1\" class=\"sk-toggleable__label sk-toggleable__label-arrow\">CountVectorizer</label><div class=\"sk-toggleable__content\"><pre>CountVectorizer()</pre></div></div></div></div></div>"
      ],
      "text/plain": [
       "CountVectorizer()"
      ]
     },
     "execution_count": 18,
     "metadata": {},
     "output_type": "execute_result"
    }
   ],
   "source": [
    "count.fit(train_01['Cuisines'])"
   ]
  },
  {
   "cell_type": "code",
   "execution_count": 19,
   "id": "965094bc",
   "metadata": {},
   "outputs": [],
   "source": [
    "cols=['Restaurant','Location','Average_Cost','Minimum_Order','Rating','Votes','Reviews']"
   ]
  },
  {
   "cell_type": "code",
   "execution_count": 20,
   "id": "40732f33",
   "metadata": {},
   "outputs": [],
   "source": [
    "data=pd.concat([pd.DataFrame(zscore(train_01.drop(['Cuisines','Delivery_Time'],axis=1)),columns=cols),pd.DataFrame(count.transform(train_01['Cuisines']).todense())],axis=1)"
   ]
  },
  {
   "cell_type": "code",
   "execution_count": 21,
   "id": "54c632cf",
   "metadata": {},
   "outputs": [],
   "source": [
    "x=data\n",
    "y=train_01['Delivery_Time']"
   ]
  },
  {
   "cell_type": "code",
   "execution_count": 23,
   "id": "083f4ad2",
   "metadata": {},
   "outputs": [
    {
     "data": {
      "text/plain": [
       "0.7990387503754881"
      ]
     },
     "execution_count": 23,
     "metadata": {},
     "output_type": "execute_result"
    }
   ],
   "source": [
    "x_train, x_test, y_train, y_test = train_test_split(x, y, test_size=0.3, random_state=42)\n",
    "\n",
    "# Convert feature names to strings\n",
    "x_train.columns = x_train.columns.astype(str)\n",
    "x_test.columns = x_test.columns.astype(str)\n",
    "\n",
    "rf = RandomForestClassifier(n_estimators=100, criterion='entropy', random_state=42)\n",
    "rf.fit(x_train, y_train)\n",
    "y_pred = rf.predict(x_test)\n",
    "accuracy = accuracy_score(y_test, y_pred)\n",
    "accuracy"
   ]
  },
  {
   "cell_type": "markdown",
   "id": "121e4f82",
   "metadata": {},
   "source": [
    "## Applying PCA for Dimensionality Reduction."
   ]
  },
  {
   "cell_type": "code",
   "execution_count": 23,
   "id": "e56e5b81",
   "metadata": {},
   "outputs": [],
   "source": [
    "x=data\n",
    "y=train_01['Delivery_Time']"
   ]
  },
  {
   "cell_type": "code",
   "execution_count": 24,
   "id": "be5e1325",
   "metadata": {},
   "outputs": [
    {
     "data": {
      "text/plain": [
       "(11094, 115)"
      ]
     },
     "execution_count": 24,
     "metadata": {},
     "output_type": "execute_result"
    }
   ],
   "source": [
    "x.shape"
   ]
  },
  {
   "cell_type": "code",
   "execution_count": 26,
   "id": "e3a96bed",
   "metadata": {},
   "outputs": [
    {
     "data": {
      "text/html": [
       "<style>#sk-container-id-3 {color: black;background-color: white;}#sk-container-id-3 pre{padding: 0;}#sk-container-id-3 div.sk-toggleable {background-color: white;}#sk-container-id-3 label.sk-toggleable__label {cursor: pointer;display: block;width: 100%;margin-bottom: 0;padding: 0.3em;box-sizing: border-box;text-align: center;}#sk-container-id-3 label.sk-toggleable__label-arrow:before {content: \"▸\";float: left;margin-right: 0.25em;color: #696969;}#sk-container-id-3 label.sk-toggleable__label-arrow:hover:before {color: black;}#sk-container-id-3 div.sk-estimator:hover label.sk-toggleable__label-arrow:before {color: black;}#sk-container-id-3 div.sk-toggleable__content {max-height: 0;max-width: 0;overflow: hidden;text-align: left;background-color: #f0f8ff;}#sk-container-id-3 div.sk-toggleable__content pre {margin: 0.2em;color: black;border-radius: 0.25em;background-color: #f0f8ff;}#sk-container-id-3 input.sk-toggleable__control:checked~div.sk-toggleable__content {max-height: 200px;max-width: 100%;overflow: auto;}#sk-container-id-3 input.sk-toggleable__control:checked~label.sk-toggleable__label-arrow:before {content: \"▾\";}#sk-container-id-3 div.sk-estimator input.sk-toggleable__control:checked~label.sk-toggleable__label {background-color: #d4ebff;}#sk-container-id-3 div.sk-label input.sk-toggleable__control:checked~label.sk-toggleable__label {background-color: #d4ebff;}#sk-container-id-3 input.sk-hidden--visually {border: 0;clip: rect(1px 1px 1px 1px);clip: rect(1px, 1px, 1px, 1px);height: 1px;margin: -1px;overflow: hidden;padding: 0;position: absolute;width: 1px;}#sk-container-id-3 div.sk-estimator {font-family: monospace;background-color: #f0f8ff;border: 1px dotted black;border-radius: 0.25em;box-sizing: border-box;margin-bottom: 0.5em;}#sk-container-id-3 div.sk-estimator:hover {background-color: #d4ebff;}#sk-container-id-3 div.sk-parallel-item::after {content: \"\";width: 100%;border-bottom: 1px solid gray;flex-grow: 1;}#sk-container-id-3 div.sk-label:hover label.sk-toggleable__label {background-color: #d4ebff;}#sk-container-id-3 div.sk-serial::before {content: \"\";position: absolute;border-left: 1px solid gray;box-sizing: border-box;top: 0;bottom: 0;left: 50%;z-index: 0;}#sk-container-id-3 div.sk-serial {display: flex;flex-direction: column;align-items: center;background-color: white;padding-right: 0.2em;padding-left: 0.2em;position: relative;}#sk-container-id-3 div.sk-item {position: relative;z-index: 1;}#sk-container-id-3 div.sk-parallel {display: flex;align-items: stretch;justify-content: center;background-color: white;position: relative;}#sk-container-id-3 div.sk-item::before, #sk-container-id-3 div.sk-parallel-item::before {content: \"\";position: absolute;border-left: 1px solid gray;box-sizing: border-box;top: 0;bottom: 0;left: 50%;z-index: -1;}#sk-container-id-3 div.sk-parallel-item {display: flex;flex-direction: column;z-index: 1;position: relative;background-color: white;}#sk-container-id-3 div.sk-parallel-item:first-child::after {align-self: flex-end;width: 50%;}#sk-container-id-3 div.sk-parallel-item:last-child::after {align-self: flex-start;width: 50%;}#sk-container-id-3 div.sk-parallel-item:only-child::after {width: 0;}#sk-container-id-3 div.sk-dashed-wrapped {border: 1px dashed gray;margin: 0 0.4em 0.5em 0.4em;box-sizing: border-box;padding-bottom: 0.4em;background-color: white;}#sk-container-id-3 div.sk-label label {font-family: monospace;font-weight: bold;display: inline-block;line-height: 1.2em;}#sk-container-id-3 div.sk-label-container {text-align: center;}#sk-container-id-3 div.sk-container {/* jupyter's `normalize.less` sets `[hidden] { display: none; }` but bootstrap.min.css set `[hidden] { display: none !important; }` so we also need the `!important` here to be able to override the default hidden behavior on the sphinx rendered scikit-learn.org. See: https://github.com/scikit-learn/scikit-learn/issues/21755 */display: inline-block !important;position: relative;}#sk-container-id-3 div.sk-text-repr-fallback {display: none;}</style><div id=\"sk-container-id-3\" class=\"sk-top-container\"><div class=\"sk-text-repr-fallback\"><pre>PCA()</pre><b>In a Jupyter environment, please rerun this cell to show the HTML representation or trust the notebook. <br />On GitHub, the HTML representation is unable to render, please try loading this page with nbviewer.org.</b></div><div class=\"sk-container\" hidden><div class=\"sk-item\"><div class=\"sk-estimator sk-toggleable\"><input class=\"sk-toggleable__control sk-hidden--visually\" id=\"sk-estimator-id-3\" type=\"checkbox\" checked><label for=\"sk-estimator-id-3\" class=\"sk-toggleable__label sk-toggleable__label-arrow\">PCA</label><div class=\"sk-toggleable__content\"><pre>PCA()</pre></div></div></div></div></div>"
      ],
      "text/plain": [
       "PCA()"
      ]
     },
     "execution_count": 26,
     "metadata": {},
     "output_type": "execute_result"
    }
   ],
   "source": [
    "# Convert feature names to strings\n",
    "x.columns = x.columns.astype(str)\n",
    "\n",
    "pca = PCA()\n",
    "pca.fit(x)\n"
   ]
  },
  {
   "cell_type": "code",
   "execution_count": 27,
   "id": "b6ede869",
   "metadata": {},
   "outputs": [
    {
     "data": {
      "text/plain": [
       "[<matplotlib.lines.Line2D at 0x1feaffe61a0>]"
      ]
     },
     "execution_count": 27,
     "metadata": {},
     "output_type": "execute_result"
    },
    {
     "data": {
      "image/png": "[encoded data removed]",
      "text/plain": [
       "<Figure size 640x480 with 1 Axes>"
      ]
     },
     "metadata": {},
     "output_type": "display_data"
    }
   ],
   "source": [
    "plt.plot(np.cumsum(pca.explained_variance_ratio_))"
   ]
  },
  {
   "cell_type": "code",
   "execution_count": 28,
   "id": "76688e7c",
   "metadata": {},
   "outputs": [],
   "source": [
    "pca=PCA(n_components=22)"
   ]
  },
  {
   "cell_type": "code",
   "execution_count": 29,
   "id": "cfe98edd",
   "metadata": {},
   "outputs": [],
   "source": [
    "x=pca.fit_transform(x)"
   ]
  },
  {
   "cell_type": "code",
   "execution_count": 30,
   "id": "a497dc6d",
   "metadata": {},
   "outputs": [
    {
     "name": "stdout",
     "output_type": "stream",
     "text": [
      "0.7729047762090718\n"
     ]
    }
   ],
   "source": [
    "x_train,x_test,y_train,y_test=train_test_split(x,y,test_size=0.3,random_state=42)\n",
    "rf=RandomForestClassifier(n_estimators=100,criterion='entropy',random_state=42)\n",
    "rf.fit(x_train,y_train)\n",
    "y_pred=rf.predict(x_test)\n",
    "ac=accuracy_score(y_test,y_pred)\n",
    "print(ac)"
   ]
  },
  {
   "cell_type": "code",
   "execution_count": 31,
   "id": "d0a47ceb",
   "metadata": {},
   "outputs": [],
   "source": [
    "grid=GridSearchCV(rf,param_grid={'n_estimators':range(1,10)},return_train_score=1).fit(x_train,y_train)"
   ]
  },
  {
   "cell_type": "code",
   "execution_count": 32,
   "id": "a1f8f1dc",
   "metadata": {},
   "outputs": [
    {
     "data": {
      "text/plain": [
       "(array([-1.,  0.,  1.,  2.,  3.,  4.,  5.,  6.,  7.,  8.,  9.]),\n",
       " [Text(-1.0, 0, \"{'n_estimators': 9}\"),\n",
       "  Text(0.0, 0, \"{'n_estimators': 1}\"),\n",
       "  Text(1.0, 0, \"{'n_estimators': 2}\"),\n",
       "  Text(2.0, 0, \"{'n_estimators': 3}\"),\n",
       "  Text(3.0, 0, \"{'n_estimators': 4}\"),\n",
       "  Text(4.0, 0, \"{'n_estimators': 5}\"),\n",
       "  Text(5.0, 0, \"{'n_estimators': 6}\"),\n",
       "  Text(6.0, 0, \"{'n_estimators': 7}\"),\n",
       "  Text(7.0, 0, \"{'n_estimators': 8}\"),\n",
       "  Text(8.0, 0, \"{'n_estimators': 9}\"),\n",
       "  Text(9.0, 0, '')])"
      ]
     },
     "execution_count": 32,
     "metadata": {},
     "output_type": "execute_result"
    },
    {
     "data": {
      "image/png": "[encoded data removed]",
      "text/plain": [
       "<Figure size 640x480 with 1 Axes>"
      ]
     },
     "metadata": {},
     "output_type": "display_data"
    }
   ],
   "source": [
    "pd.DataFrame(grid.cv_results_).set_index('params')['mean_test_score'].plot.line()\n",
    "pd.DataFrame(grid.cv_results_).set_index('params')['mean_train_score'].plot.line()\n",
    "plt.xticks(rotation=45)"
   ]
  },
  {
   "cell_type": "markdown",
   "id": "557d95d9",
   "metadata": {},
   "source": [
    "## Checking on Test Dataset"
   ]
  },
  {
   "cell_type": "code",
   "execution_count": 33,
   "id": "d55175d7",
   "metadata": {},
   "outputs": [],
   "source": [
    "test['Restaurant']=le.fit_transform(test['Restaurant'])\n",
    "test['Location']=le.fit_transform(test['Location'])\n",
    "test['Minimum_Order']=pd.to_numeric(test['Minimum_Order'].str.replace('₹',' '))\n",
    "test['Average_Cost']=pd.to_numeric(test['Average_Cost'].str.replace('[^0-9]',''))\n",
    "test['Rating']=pd.to_numeric(test['Rating'].apply(lambda x : np.nan if x in ['Temporarily Closed','Opening Soon','-','NEW'] else x))\n",
    "test['Votes']=pd.to_numeric(test['Votes'].apply(lambda x : np.nan if x=='-' else x))\n",
    "test['Reviews']=pd.to_numeric(test['Reviews'].apply(lambda x : np.nan if x=='-' else x))\n",
    "test['Rating']=test['Rating'].fillna(test['Rating'].median())\n",
    "test['Votes']=test['Votes'].fillna(test['Votes'].mode()[0])\n",
    "test['Reviews']=test['Reviews'].fillna(test['Reviews'].median())\n",
    "test['Average_Cost']=test['Average_Cost'].fillna(test['Average_Cost'].mean())\n",
    "sample['Delivery_Time']=le.fit_transform(pd.to_numeric(sample['Delivery_Time'].str.replace('[^0-9]','')))"
   ]
  },
  {
   "cell_type": "code",
   "execution_count": 34,
   "id": "ab467fc4",
   "metadata": {},
   "outputs": [],
   "source": [
    "test['Cuisines']=test['Cuisines'].str.lower()\n",
    "test['Cuisines']=test['Cuisines'].str.replace('[^a-z]',' ')"
   ]
  },
  {
   "cell_type": "code",
   "execution_count": 36,
   "id": "56cc8f35",
   "metadata": {},
   "outputs": [],
   "source": [
    "output=r\"D:\\NIT 10AM\\project\\personal\\machine-hack-delivery-time-prediction\\Deployment\\test.csv\"\n",
    "test.to_csv(output,index=False)"
   ]
  },
  {
   "cell_type": "code",
   "execution_count": 37,
   "id": "de00ad05",
   "metadata": {},
   "outputs": [],
   "source": [
    "count.fit(test['Cuisines'])"
   ]
  },
  {
   "cell_type": "code",
   "execution_count": 38,
   "id": "684aa295",
   "metadata": {},
   "outputs": [],
   "source": [
    "pca=PCA(n_components=22)"
   ]
  },
  {
   "cell_type": "code",
   "execution_count": 39,
   "id": "4bc83c01",
   "metadata": {},
   "outputs": [],
   "source": [
    "data=pd.concat([pd.DataFrame(zscore(test.drop(['Cuisines'],axis=1)),columns=cols),pd.DataFrame((count.transform(test['Cuisines']).todense()))],axis=1)"
   ]
  },
  {
   "cell_type": "code",
   "execution_count": 40,
   "id": "6f2fa325",
   "metadata": {},
   "outputs": [],
   "source": [
    "data.head()"
   ]
  },
  {
   "cell_type": "markdown",
   "id": "8c12a783",
   "metadata": {},
   "source": [
    "# Convert feature names to strings"
   ]
  },
  {
   "cell_type": "code",
   "execution_count": 41,
   "id": "4bb445eb",
   "metadata": {},
   "outputs": [],
   "source": [
    "# Convert feature names to strings\n",
    "data.columns = data.columns.astype(str)\n",
    " \n",
    "pca = PCA()\n",
    "x = pca.fit_transform(data)"
   ]
  },
  {
   "cell_type": "markdown",
   "id": "84e3805b",
   "metadata": {},
   "source": [
    "# Predict the Model"
   ]
  },
  {
   "cell_type": "code",
   "execution_count": 42,
   "id": "fc2460cd",
   "metadata": {},
   "outputs": [],
   "source": [
    "data['Delivery_Time'] = pd.DataFrame(rf.predict(x_test))"
   ]
  },
  {
   "cell_type": "code",
   "execution_count": 43,
   "id": "a5183203",
   "metadata": {},
   "outputs": [],
   "source": [
    "data['Delivery_Time'].value_counts()"
   ]
  },
  {
   "cell_type": "markdown",
   "id": "0a55a106",
   "metadata": {},
   "source": [
    "# Saving the model Inputs and Outputs"
   ]
  },
  {
   "cell_type": "code",
   "execution_count": 44,
   "id": "c8cedbec",
   "metadata": {},
   "outputs": [],
   "source": [
    "sample_refined=[]\n",
    "for i in data['Delivery_Time']:\n",
    "    i=(str(i)+' minutes')\n",
    "    sample_refined.append(i)"
   ]
  },
  {
   "cell_type": "code",
   "execution_count": 45,
   "id": "55edf55a",
   "metadata": {},
   "outputs": [],
   "source": [
    "sample_refined=pd.DataFrame(sample_refined,columns=['Delivery_Time'])\n",
    "sample_refined.to_excel('Lead_Time_Predict.xlsx',index=False)"
   ]
  },
  {
   "cell_type": "code",
   "execution_count": 46,
   "id": "93ff60d5",
   "metadata": {},
   "outputs": [],
   "source": [
    "pd.read_excel('Lead_Time_Predict.xlsx')['Delivery_Time'].value_counts()"
   ]
  },
  {
   "cell_type": "markdown",
   "id": "b2650f05",
   "metadata": {},
   "source": [
    "# Now write Deployment code for deployent"
   ]
  },
  {
   "cell_type": "code",
   "execution_count": null,
   "id": "97df22df",
   "metadata": {},
   "outputs": [],
   "source": [
    "import streamlit as st\n",
    "import pandas as pd\n",
    "import numpy as np\n",
    "import re\n",
    "from sklearn.preprocessing import LabelEncoder\n",
    "\n",
    "le = LabelEncoder()\n",
    "\n",
    "train = pd.read_csv(r\"D:\\NIT 10AM\\project\\personal\\machine-hack-delivery-time-prediction\\Deployment\\train.csv\")\n",
    "test = pd.read_csv(r\"D:\\NIT 10AM\\project\\personal\\machine-hack-delivery-time-prediction\\Deployment\\test.csv\")\n",
    "\n",
    "\n",
    "train['Cuisines'] = le.fit_transform(train['Cuisines'])\n",
    "\n",
    "x = train.drop('Delivery_Time', axis=1)\n",
    "y = train['Delivery_Time']\n",
    "\n",
    "from sklearn.model_selection import train_test_split\n",
    "\n",
    "x_train, x_test, y_train, y_test = train_test_split(x, y, test_size=0.2, random_state=42)\n",
    "\n",
    "from sklearn.ensemble import RandomForestClassifier\n",
    "\n",
    "rf = RandomForestClassifier(n_estimators=100, criterion='entropy', random_state=42)\n",
    "rf.fit(x_train, y_train)\n",
    "y_pred = rf.predict(x_test)\n",
    "\n",
    "st.title(\"LEAD TIME PREDICTION\")\n",
    "\n",
    "train.sort_values(\"Reviews\").head()\n",
    "\n",
    "\n",
    "def user_report():\n",
    "    Restaurant = st.sidebar.number_input('Restaurant')\n",
    "    Location = st.sidebar.slider('Location', 0, 34)\n",
    "    Cuisines = st.sidebar.slider('Cuisines', 0, 2175)\n",
    "    Average_Cost = st.sidebar.slider('Average_Cost', 50, 500)\n",
    "    Minimum_Order = st.sidebar.slider('Minimum_Order', 0, 500)\n",
    "    Rating = st.sidebar.slider('Rating', 1, 5)\n",
    "    Votes = st.sidebar.slider('Votes', 1, 600)\n",
    "    Reviews = st.sidebar.slider('Reviews', 1, 500)\n",
    "\n",
    "    user_report = {\n",
    "        'Restaurant': Restaurant,\n",
    "        'Location': Location,\n",
    "        'Cuisines': Cuisines,\n",
    "        'Average_Cost': Average_Cost,\n",
    "        'Minimum_Order': Minimum_Order,\n",
    "        'Rating': Rating,\n",
    "        'Votes': Votes,\n",
    "        'Reviews': Reviews\n",
    "    }\n",
    "\n",
    "    report_data = pd.DataFrame(user_report, index=[0])\n",
    "    return report_data\n",
    "\n",
    "\n",
    "user_data = user_report()\n",
    "\n",
    "user_result = rf.predict(user_data)\n",
    "\n",
    "st.subheader(\"DELIVERY TIME\")\n",
    "st.write(\"MINIMUN DELIVERY 30 MINUTES\")\n",
    "\n",
    "st.write(str(user_result)+ 'MIN') "
   ]
  }
 ],
 "metadata": {
  "kernelspec": {
   "display_name": "Python 3 (ipykernel)",
   "language": "python",
   "name": "python3"
  },
  "language_info": {
   "codemirror_mode": {
    "name": "ipython",
    "version": 3
   },
   "file_extension": ".py",
   "mimetype": "text/x-python",
   "name": "python",
   "nbconvert_exporter": "python",
   "pygments_lexer": "ipython3",
   "version": "3.10.9"
  }
 },
 "nbformat": 4,
 "nbformat_minor": 5
}
